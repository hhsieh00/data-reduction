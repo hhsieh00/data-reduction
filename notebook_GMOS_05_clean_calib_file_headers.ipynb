{
 "cells": [
  {
   "cell_type": "code",
   "execution_count": 1,
   "metadata": {},
   "outputs": [],
   "source": [
    "import os, sys\n",
    "#sys.path.append('/Users/hhsieh/anaconda3/envs/astroconda/lib/python3.6/site-packages')\n",
    "#sys.path.append('/opt/local/Library/Frameworks/Python.framework/Versions/3.7/lib/python3.7/site-packages')\n",
    "#print(sys.version)\n",
    "from astropy.io import fits\n",
    "from astropy.io.fits import getheader\n",
    "from astropy.modeling import models\n",
    "from astropy import nddata\n",
    "from astropy import units as u\n",
    "import astropy.units as u\n",
    "import astropy.coordinates as coord\n",
    "from astropy.time import Time, TimeDelta\n",
    "from astropy.table import Table\n",
    "from astropy.coordinates import SkyCoord,Angle\n",
    "from astroquery.jplhorizons import Horizons\n",
    "import ccdproc as cp\n",
    "from ccdproc import CCDData, ImageFileCollection\n",
    "import numpy as np\n",
    "import math, glob, os, bz2, subprocess, sys\n",
    "import cosmics_py3\n",
    "import scipy.signal as signal\n",
    "import scipy.ndimage as ndimage\n",
    "import datetime\n"
   ]
  },
  {
   "cell_type": "code",
   "execution_count": 2,
   "metadata": {},
   "outputs": [],
   "source": [
    "def compress_file_fpack(filename):\n",
    "    fpack_command  = '/Users/hhsieh/Astro/tools/cfitsio/fpack'\n",
    "    delete_command = '/bin/rm'\n",
    "    fpack_cmd = [fpack_command,filename]\n",
    "    process = subprocess.call(fpack_cmd)\n",
    "    if process == 0:\n",
    "        delete_cmd = [delete_command,filename]\n",
    "        process = subprocess.call(delete_cmd)\n",
    "    else:\n",
    "        print('fpack command failed.')\n",
    "    return None\n",
    "\n",
    "def decompress_file_fpack(filename):\n",
    "    funpack_command = '/Users/hhsieh/Astro/tools/cfitsio/funpack'\n",
    "    delete_command  = '/bin/rm'\n",
    "    funpack_cmd = [funpack_command,filename]\n",
    "    process = subprocess.call(funpack_cmd)\n",
    "    if process == 0:\n",
    "        delete_cmd = [delete_command,filename]\n",
    "        process = subprocess.call(delete_cmd)\n",
    "    else:\n",
    "        print('funpack command failed.')\n",
    "    return None\n",
    "\n"
   ]
  },
  {
   "cell_type": "code",
   "execution_count": 3,
   "metadata": {},
   "outputs": [],
   "source": [
    "def update_metadata(fits_file):\n",
    "    with fits.open(fits_file) as hdulist:\n",
    "        data = hdulist[0].data\n",
    "        hdr = hdulist[0].header\n",
    "        \n",
    "    #'EPOCH','CD1_1','CD1_2','CD2_1','CD2_2','CHECKSUM'\n",
    "\n",
    "    # Remove keywords\n",
    "    if 'EPOCH'    in hdr: del hdr['EPOCH']\n",
    "    if 'CD1_1'    in hdr: del hdr['CD1_1']\n",
    "    if 'CD1_2'    in hdr: del hdr['CD1_2']\n",
    "    if 'CD2_1'    in hdr: del hdr['CD2_1']\n",
    "    if 'CD2_2'    in hdr: del hdr['CD2_2']\n",
    "    if 'CHECKSUM' in hdr: del hdr['CHECKSUM']\n",
    "    if 'DATASUM'  in hdr: del hdr['DATASUM']\n",
    "        \n",
    "    fits.writeto(fits_file,data,hdr,overwrite=True,checksum=True)\n",
    "    \n",
    "    return None\n"
   ]
  },
  {
   "cell_type": "code",
   "execution_count": 4,
   "metadata": {},
   "outputs": [],
   "source": [
    "def update_calib_file_headers(filepath):\n",
    "    print('{:s} - Updating headers of calibration files in {:s}...'.format(datetime.datetime.today().strftime('%Y-%m-%d %H:%M:%S'),filepath))\n",
    "    os.chdir(filepath)\n",
    "    for fits_file_fz in sorted(glob.glob('*.fz')):\n",
    "        decompress_file_fpack(fits_file_fz)\n",
    "        fits_file = fits_file_fz[:-3]\n",
    "        update_metadata(fits_file)\n",
    "        compress_file_fpack(fits_file)\n",
    "        \n",
    "    return None\n"
   ]
  },
  {
   "cell_type": "code",
   "execution_count": 5,
   "metadata": {},
   "outputs": [
    {
     "name": "stdout",
     "output_type": "stream",
     "text": [
      "2022-01-11 16:23:32 - Updating headers of calibration files in /volumes/Fantom12a/BackupData/gemini/data_LLP/gemini_data.GN-2016B-LP-11/GN_2016B/calibration_data/...\n",
      "2022-01-11 16:24:54 - Updating headers of calibration files in /volumes/Fantom12a/BackupData/gemini/data_LLP/gemini_data.GN-2017A-LP-11/GN_2017A/calibration_data/...\n",
      "2022-01-11 16:25:26 - Updating headers of calibration files in /volumes/Fantom12a/BackupData/gemini/data_LLP/gemini_data.GN-2017B-LP-11/GN_2017B/calibration_data/...\n",
      "2022-01-11 16:26:19 - Updating headers of calibration files in /volumes/Fantom12a/BackupData/gemini/data_LLP/gemini_data.GN-2018A-LP-11/GN_2018A/calibration_data/...\n",
      "2022-01-11 16:26:36 - Updating headers of calibration files in /volumes/Fantom12a/BackupData/gemini/data_LLP/gemini_data.GN-2018B-LP-11/GN_2018B/calibration_data/...\n",
      "2022-01-11 16:27:05 - Updating headers of calibration files in /volumes/Fantom12a/BackupData/gemini/data_LLP/gemini_data.GN-2019A-LP-11/GN_2019A/calibration_data/...\n",
      "2022-01-11 16:27:43 - Updating headers of calibration files in /volumes/Fantom12a/BackupData/gemini/data_LLP/gemini_data.GS-2016B-LP-11/GS_2016B/calibration_data/...\n",
      "2022-01-11 16:28:08 - Updating headers of calibration files in /volumes/Fantom12a/BackupData/gemini/data_LLP/gemini_data.GS-2017A-LP-11/GS_2017A/calibration_data/...\n",
      "2022-01-11 16:28:46 - Updating headers of calibration files in /volumes/Fantom12a/BackupData/gemini/data_LLP/gemini_data.GS-2017B-LP-11/GS_2017B/calibration_data/...\n",
      "2022-01-11 16:29:27 - Updating headers of calibration files in /volumes/Fantom12a/BackupData/gemini/data_LLP/gemini_data.GS-2018A-LP-11/GS_2018A/calibration_data/...\n",
      "2022-01-11 16:29:59 - Updating headers of calibration files in /volumes/Fantom12a/BackupData/gemini/data_LLP/gemini_data.GS-2018B-LP-11/GS_2018B/calibration_data/...\n",
      "Done.\n"
     ]
    }
   ],
   "source": [
    "update_calib_file_headers('/volumes/Fantom12a/BackupData/gemini/data_LLP/gemini_data.GN-2016B-LP-11/GN_2016B/calibration_data/')\n",
    "update_calib_file_headers('/volumes/Fantom12a/BackupData/gemini/data_LLP/gemini_data.GN-2017A-LP-11/GN_2017A/calibration_data/')\n",
    "update_calib_file_headers('/volumes/Fantom12a/BackupData/gemini/data_LLP/gemini_data.GN-2017B-LP-11/GN_2017B/calibration_data/')\n",
    "update_calib_file_headers('/volumes/Fantom12a/BackupData/gemini/data_LLP/gemini_data.GN-2018A-LP-11/GN_2018A/calibration_data/')\n",
    "update_calib_file_headers('/volumes/Fantom12a/BackupData/gemini/data_LLP/gemini_data.GN-2018B-LP-11/GN_2018B/calibration_data/')\n",
    "update_calib_file_headers('/volumes/Fantom12a/BackupData/gemini/data_LLP/gemini_data.GN-2019A-LP-11/GN_2019A/calibration_data/')\n",
    "update_calib_file_headers('/volumes/Fantom12a/BackupData/gemini/data_LLP/gemini_data.GS-2016B-LP-11/GS_2016B/calibration_data/')\n",
    "update_calib_file_headers('/volumes/Fantom12a/BackupData/gemini/data_LLP/gemini_data.GS-2017A-LP-11/GS_2017A/calibration_data/')\n",
    "update_calib_file_headers('/volumes/Fantom12a/BackupData/gemini/data_LLP/gemini_data.GS-2017B-LP-11/GS_2017B/calibration_data/')\n",
    "update_calib_file_headers('/volumes/Fantom12a/BackupData/gemini/data_LLP/gemini_data.GS-2018A-LP-11/GS_2018A/calibration_data/')\n",
    "update_calib_file_headers('/volumes/Fantom12a/BackupData/gemini/data_LLP/gemini_data.GS-2018B-LP-11/GS_2018B/calibration_data/')\n",
    "print('Done.')"
   ]
  }
 ],
 "metadata": {
  "kernelspec": {
   "display_name": "Python 3",
   "language": "python",
   "name": "python3"
  },
  "language_info": {
   "codemirror_mode": {
    "name": "ipython",
    "version": 3
   },
   "file_extension": ".py",
   "mimetype": "text/x-python",
   "name": "python",
   "nbconvert_exporter": "python",
   "pygments_lexer": "ipython3",
   "version": "3.6.11"
  }
 },
 "nbformat": 4,
 "nbformat_minor": 4
}
